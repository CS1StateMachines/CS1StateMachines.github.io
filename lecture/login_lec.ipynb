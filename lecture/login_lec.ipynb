{
 "cells": [
  {
   "cell_type": "markdown",
   "id": "689e2bd5",
   "metadata": {},
   "source": [
    "## Using global variables to store state: the login function example\n",
    "\n",
    "We'd like to make a function that lets users log in. The function return `True` on successful login, and `False` otherwise.\n",
    "\n",
    "The function locks the user out if there are three consecutive unsuccessful logins.\n",
    "\n",
    "The function returns different things for the same inputs depending on what happened before. That means that we need to use global variables (or something equivalent) in order to keep track of the *state*: the information that determines what the function should return based on what happened before.\n",
    "\n",
    "We saw an example of this before, when we generated pseudorandom numbers (we needed to keep track of what `x` was)."
   ]
  },
  {
   "cell_type": "code",
   "execution_count": 1,
   "id": "599203bc",
   "metadata": {},
   "outputs": [],
   "source": [
    "# login.py\n",
    "\n",
    "def login(user, password):\n",
    "    global n_attempts, locked_out # may need to change those\n",
    "    if locked_out:\n",
    "        return False\n",
    "    \n",
    "    \n",
    "    if user not in users or passwords[users.index(user)] != password:\n",
    "        n_attempts += 1\n",
    "        if n_attempts == 3:\n",
    "            locked_out = True\n",
    "        return False\n",
    "        \n",
    "    n_attempts = 0 # succesful attempt: reset n_attempts\n",
    "    return True\n",
    "        \n",
    "\n",
    "\n",
    "\n",
    "def initialize():\n",
    "    global users, passwords\n",
    "    global n_attempts, locked_out\n",
    "    \n",
    "    users = [\"lovelace\", \"babbage\", \"turing\", \"hopper\"]\n",
    "    passwords = [\"programming\", \"hardware\", \"ai\", \"compilers\"]\n",
    "    \n",
    "    n_attempts = 0 # initially, 0 consecutive failed attempts\n",
    "    locked_out = False # initialliy, not locked out\n",
    "    \n",
    "    \n",
    "initialize() # call the function outside the main block"
   ]
  },
  {
   "cell_type": "code",
   "execution_count": 2,
   "id": "e6b41150",
   "metadata": {},
   "outputs": [
    {
     "name": "stdout",
     "output_type": "stream",
     "text": [
      "True\n",
      "False\n",
      "False\n",
      "False\n",
      "False\n"
     ]
    }
   ],
   "source": [
    "# user_login.py\n",
    "\n",
    "import login  # intialize is run\n",
    "\n",
    "if __name__ == '__main__':\n",
    "    print(login.login(\"babbage\", \"hardware\")) # True\n",
    "    print(login.login(\"babbage\", \"software\")) # False\n",
    "    print(login.login(\"babbage\", \"software\")) # False\n",
    "    print(login.login(\"babbage\", \"software\")) # False, locked out\n",
    "    print(login.login(\"babbage\", \"hardware\")) # False, because still locked out\n",
    "    "
   ]
  }
 ],
 "metadata": {
  "kernelspec": {
   "display_name": "Python 3 (ipykernel)",
   "language": "python",
   "name": "python3"
  },
  "language_info": {
   "codemirror_mode": {
    "name": "ipython",
    "version": 3
   },
   "file_extension": ".py",
   "mimetype": "text/x-python",
   "name": "python",
   "nbconvert_exporter": "python",
   "pygments_lexer": "ipython3",
   "version": "3.10.6"
  }
 },
 "nbformat": 4,
 "nbformat_minor": 5
}
